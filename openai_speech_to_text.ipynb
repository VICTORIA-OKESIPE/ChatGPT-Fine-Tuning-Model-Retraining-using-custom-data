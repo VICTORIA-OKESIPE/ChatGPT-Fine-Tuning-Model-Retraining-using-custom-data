{
  "nbformat": 4,
  "nbformat_minor": 0,
  "metadata": {
    "colab": {
      "provenance": [],
      "authorship_tag": "ABX9TyNb8/agaZY6wMVIc/+RmOge",
      "include_colab_link": true
    },
    "kernelspec": {
      "name": "python3",
      "display_name": "Python 3"
    },
    "language_info": {
      "name": "python"
    }
  },
  "cells": [
    {
      "cell_type": "markdown",
      "metadata": {
        "id": "view-in-github",
        "colab_type": "text"
      },
      "source": [
        "<a href=\"https://colab.research.google.com/github/VICTORIA-OKESIPE/OpenAI-Exploration-for-Image-Generation-and-Audio-Transcriptions/blob/main/openai_speech_to_text.ipynb\" target=\"_parent\"><img src=\"https://colab.research.google.com/assets/colab-badge.svg\" alt=\"Open In Colab\"/></a>"
      ]
    },
    {
      "cell_type": "markdown",
      "source": [
        "### **Installing openai**\n"
      ],
      "metadata": {
        "id": "tGTARV9IopdG"
      }
    },
    {
      "cell_type": "markdown",
      "source": [
        "- This installation might have to be repeated when your session is timed-out while using Google Colab."
      ],
      "metadata": {
        "id": "Qs8AeRtGGfFu"
      }
    },
    {
      "cell_type": "code",
      "execution_count": 1,
      "metadata": {
        "colab": {
          "base_uri": "https://localhost:8080/"
        },
        "id": "a-nuxspxVYBe",
        "outputId": "677e1373-b9e9-468f-8df5-8eded290034d"
      },
      "outputs": [
        {
          "output_type": "stream",
          "name": "stdout",
          "text": [
            "Looking in indexes: https://pypi.org/simple, https://us-python.pkg.dev/colab-wheels/public/simple/\n",
            "Collecting openai\n",
            "  Downloading openai-0.27.6-py3-none-any.whl (71 kB)\n",
            "\u001b[2K     \u001b[90m━━━━━━━━━━━━━━━━━━━━━━━━━━━━━━━━━━━━━━━━\u001b[0m \u001b[32m71.9/71.9 kB\u001b[0m \u001b[31m3.5 MB/s\u001b[0m eta \u001b[36m0:00:00\u001b[0m\n",
            "\u001b[?25hRequirement already satisfied: requests>=2.20 in /usr/local/lib/python3.10/dist-packages (from openai) (2.27.1)\n",
            "Requirement already satisfied: tqdm in /usr/local/lib/python3.10/dist-packages (from openai) (4.65.0)\n",
            "Collecting aiohttp\n",
            "  Downloading aiohttp-3.8.4-cp310-cp310-manylinux_2_17_x86_64.manylinux2014_x86_64.whl (1.0 MB)\n",
            "\u001b[2K     \u001b[90m━━━━━━━━━━━━━━━━━━━━━━━━━━━━━━━━━━━━━━━━\u001b[0m \u001b[32m1.0/1.0 MB\u001b[0m \u001b[31m20.1 MB/s\u001b[0m eta \u001b[36m0:00:00\u001b[0m\n",
            "\u001b[?25hRequirement already satisfied: urllib3<1.27,>=1.21.1 in /usr/local/lib/python3.10/dist-packages (from requests>=2.20->openai) (1.26.15)\n",
            "Requirement already satisfied: certifi>=2017.4.17 in /usr/local/lib/python3.10/dist-packages (from requests>=2.20->openai) (2022.12.7)\n",
            "Requirement already satisfied: charset-normalizer~=2.0.0 in /usr/local/lib/python3.10/dist-packages (from requests>=2.20->openai) (2.0.12)\n",
            "Requirement already satisfied: idna<4,>=2.5 in /usr/local/lib/python3.10/dist-packages (from requests>=2.20->openai) (3.4)\n",
            "Collecting aiosignal>=1.1.2\n",
            "  Downloading aiosignal-1.3.1-py3-none-any.whl (7.6 kB)\n",
            "Requirement already satisfied: attrs>=17.3.0 in /usr/local/lib/python3.10/dist-packages (from aiohttp->openai) (23.1.0)\n",
            "Collecting async-timeout<5.0,>=4.0.0a3\n",
            "  Downloading async_timeout-4.0.2-py3-none-any.whl (5.8 kB)\n",
            "Collecting multidict<7.0,>=4.5\n",
            "  Downloading multidict-6.0.4-cp310-cp310-manylinux_2_17_x86_64.manylinux2014_x86_64.whl (114 kB)\n",
            "\u001b[2K     \u001b[90m━━━━━━━━━━━━━━━━━━━━━━━━━━━━━━━━━━━━━━━\u001b[0m \u001b[32m114.5/114.5 kB\u001b[0m \u001b[31m1.3 MB/s\u001b[0m eta \u001b[36m0:00:00\u001b[0m\n",
            "\u001b[?25hCollecting frozenlist>=1.1.1\n",
            "  Downloading frozenlist-1.3.3-cp310-cp310-manylinux_2_5_x86_64.manylinux1_x86_64.manylinux_2_17_x86_64.manylinux2014_x86_64.whl (149 kB)\n",
            "\u001b[2K     \u001b[90m━━━━━━━━━━━━━━━━━━━━━━━━━━━━━━━━━━━━━━\u001b[0m \u001b[32m149.6/149.6 kB\u001b[0m \u001b[31m11.5 MB/s\u001b[0m eta \u001b[36m0:00:00\u001b[0m\n",
            "\u001b[?25hCollecting yarl<2.0,>=1.0\n",
            "  Downloading yarl-1.9.2-cp310-cp310-manylinux_2_17_x86_64.manylinux2014_x86_64.whl (268 kB)\n",
            "\u001b[2K     \u001b[90m━━━━━━━━━━━━━━━━━━━━━━━━━━━━━━━━━━━━━━\u001b[0m \u001b[32m268.8/268.8 kB\u001b[0m \u001b[31m12.2 MB/s\u001b[0m eta \u001b[36m0:00:00\u001b[0m\n",
            "\u001b[?25hInstalling collected packages: multidict, frozenlist, async-timeout, yarl, aiosignal, aiohttp, openai\n",
            "Successfully installed aiohttp-3.8.4 aiosignal-1.3.1 async-timeout-4.0.2 frozenlist-1.3.3 multidict-6.0.4 openai-0.27.6 yarl-1.9.2\n"
          ]
        }
      ],
      "source": [
        "!pip install openai"
      ]
    },
    {
      "cell_type": "markdown",
      "source": [
        "### **Importing openai**"
      ],
      "metadata": {
        "id": "ksX6ystIoxuZ"
      }
    },
    {
      "cell_type": "code",
      "source": [
        "import openai"
      ],
      "metadata": {
        "id": "N2wRYeSadJqL"
      },
      "execution_count": 2,
      "outputs": []
    },
    {
      "cell_type": "markdown",
      "source": [
        "## **Inserting the api key**\n",
        "- Kindy use the README.md file for the step-by-step procedure on how to get your openai api key"
      ],
      "metadata": {
        "id": "7Nu-GYyBwjQK"
      }
    },
    {
      "cell_type": "code",
      "source": [
        "openai.api_key = \"open ai key here\"   # kindly generate and insert here"
      ],
      "metadata": {
        "id": "hdkiCLRqepCu"
      },
      "execution_count": 5,
      "outputs": []
    },
    {
      "cell_type": "markdown",
      "source": [
        "## **Transriptions: Speech to Text**\n",
        "- The API for transcriptions requires two inputs: the audio file that you wish to transcribe, and the desired output format for the transcription of the audio."
      ],
      "metadata": {
        "id": "JeRKgJMvxxtR"
      }
    },
    {
      "cell_type": "code",
      "source": [
        "def Transcribe_speech(speech):\n",
        "  res = openai.Audio.transcribe(\"whisper-1\", open(speech, \"rb\"))\n",
        "  return res"
      ],
      "metadata": {
        "id": "UfefKuPNHtVe"
      },
      "execution_count": 4,
      "outputs": []
    },
    {
      "cell_type": "markdown",
      "source": [
        "### Example 1:"
      ],
      "metadata": {
        "id": "IntAQE-EMSVq"
      }
    },
    {
      "cell_type": "code",
      "source": [
        "Transcribe_speech(\"/content/preparing_for_interview.mpeg\")"
      ],
      "metadata": {
        "colab": {
          "base_uri": "https://localhost:8080/"
        },
        "id": "dX09tTVqIYP-",
        "outputId": "a07ed00d-a96f-4fcf-d796-c21b59028f13"
      },
      "execution_count": null,
      "outputs": [
        {
          "output_type": "execute_result",
          "data": {
            "text/plain": [
              "<OpenAIObject at 0x7efe20875a90> JSON: {\n",
              "  \"text\": \"One of my greatest strengths is my results driven mindset, which is I always begin with an end in mind for any given project or role I am involved in. So my dedication and determination to achieving results enables me to stay motivated and persevere in the face of challenges. In terms of weakness, I tend to be a detail-oriented person and can spend more time than necessary on a task to ensure that it's flawless. But while this helps me produce high quality work, I'm working on finding the balance between striving for excellence and knowing when something is good enough. And this will in turn present me with the opportunity for growth and learning.\"\n",
              "}"
            ]
          },
          "metadata": {},
          "execution_count": 9
        }
      ]
    },
    {
      "cell_type": "markdown",
      "source": [
        "- 🙏, don't mind the meaning of the output, was just exploring"
      ],
      "metadata": {
        "id": "WuHcWxNhBz0u"
      }
    },
    {
      "cell_type": "markdown",
      "source": [
        "### Example 2:"
      ],
      "metadata": {
        "id": "PaEo3ZO_MjUQ"
      }
    },
    {
      "cell_type": "code",
      "source": [
        "Transcribe_speech(\"/content/appreciation.mp3\")"
      ],
      "metadata": {
        "colab": {
          "base_uri": "https://localhost:8080/"
        },
        "id": "xK_z30I9BnZN",
        "outputId": "236c47fa-8591-4c5f-ff08-ae7c8194d8f5"
      },
      "execution_count": null,
      "outputs": [
        {
          "output_type": "execute_result",
          "data": {
            "text/plain": [
              "<OpenAIObject at 0x7efe2087d400> JSON: {\n",
              "  \"text\": \"Mpembelelelelelelelele! Ailelelelelele! Life lessons have taught you tips you can never hide from me. Such that it pleases you to sacrifice your time and resources just to make me happy. I need no Jupiter to tell me that my success is your priority. This is indeed a selfless relationship from you to me. You are more than whom you think you are. You are indeed irreplaceable. You are rising again far above all hordes. Vivi, life lessons.\"\n",
              "}"
            ]
          },
          "metadata": {},
          "execution_count": 10
        }
      ]
    },
    {
      "cell_type": "markdown",
      "source": [
        "- 🙏, don't mind the meaning of the output, was just exploring"
      ],
      "metadata": {
        "id": "DptpQsWYCLBF"
      }
    },
    {
      "cell_type": "markdown",
      "source": [
        "The following are the languages currently supported:\n",
        "- Afrikaans, Arabic, Armenian, Azerbaijani, Belarusian, Bosnian, Bulgarian, Catalan, Chinese, Croatian, Czech, Danish, Dutch, English, Estonian, Finnish, French, Galician, German, Greek, Hebrew, Hindi, Hungarian, Icelandic, Indonesian, Italian, Japanese, Kannada, Kazakh, Korean, Latvian, Lithuanian, Macedonian, Malay, Marathi, Maori, Nepali, Norwegian, Persian, Polish, Portuguese, Romanian, Russian, Serbian, Slovak, Slovenian, Spanish, Swahili, Swedish, Tagalog, Tamil, Thai, Turkish, Ukrainian, Urdu, Vietnamese, and Welsh."
      ],
      "metadata": {
        "id": "iOobtj7g3eRS"
      }
    },
    {
      "cell_type": "markdown",
      "source": [
        "### **Example 3:**"
      ],
      "metadata": {
        "id": "clnl2ybiK7F1"
      }
    },
    {
      "cell_type": "code",
      "source": [
        "Transcribe_speech(\"/content/mumOyelese2.mp3\")"
      ],
      "metadata": {
        "colab": {
          "base_uri": "https://localhost:8080/"
        },
        "id": "8rIUAYjQK6JZ",
        "outputId": "365551b7-1e93-480a-c6a9-0bb5bdc1deea"
      },
      "execution_count": null,
      "outputs": [
        {
          "output_type": "execute_result",
          "data": {
            "text/plain": [
              "<OpenAIObject at 0x7fc9e8a50860> JSON: {\n",
              "  \"text\": \"Her mark was on any school where she worked, especially when she became a principal. She made the best use of any money that came her way. Emmanuel College, Samonda has a unique uniform to date because she combined the colors so effectively and her school had a library until she left that school. She had a focus on the future for the pupils as well as teachers. The state government could not police the contractors all the time but she made do with what was done. But for her, the school would have gone the way of many Bolaike schools but she worked and persevered on the school. The parents, the pupils and the surrounding, I can hear her chuckle now laughing about a situation that frightened me. She would calmly ask about the next step and without saying anything would achieve the best anyone could under the circumstances. That was the only school for the Agbo community and those who live in that community knew how it was. She was very much loved. She never took anything for granted and was painstakingly about introducing us to skills at that early age. She not only taught us to bake but to see the money in baking and selling what was baked. She was also very thrifty and showed us the way to turn us into good sellers of what we produced. I am proud of the fact that I sold my baked products early in my marriage. I was afraid for her life when she lost her husband, the great mathematics teacher. For days I could not face her but I visited the house every day just to see her and I really feared for her life for she was a great homemaker but she rose above that and turned her attention on her children and the church and let her work and profession speak for her. She has always been a church woman having met Christ a long time ago but she never left her Catholic church. She invested heavily on the priests and new missions, on the minority of Mary in any form, on the ministry of Mary in any form. She gave to the training of priests to missionaries. She supported her church, SS Peter and Paul Bodijai Bado for all the years I knew her. She was an outstanding Yoruba woman, always well turned out. I am very proud of the Yoruba culture, royal dressing and she carried herself with dignity. She dressed properly and elegantly any time she went, anywhere she went. She was royalty at all times. I will miss her outstanding dress sense. I recall with great pride her work as a teacher, an outstanding teacher and as a Christian, a Roman Catholic member by excellence, a mother of millions whose lives depended on her till she passed on. What a lovely memory we have of her till date. May her work and work with Christ continue forever and may her tribe increase. Amen.\"\n",
              "}"
            ]
          },
          "metadata": {},
          "execution_count": 5
        }
      ]
    },
    {
      "cell_type": "markdown",
      "source": [
        "### **Example 4:**"
      ],
      "metadata": {
        "id": "3AkhqtNZMP3M"
      }
    },
    {
      "cell_type": "code",
      "source": [
        "Transcribe_speech(\"/content/recorderMumOyelese.mp3\")"
      ],
      "metadata": {
        "colab": {
          "base_uri": "https://localhost:8080/"
        },
        "id": "cI4emtNKLa5D",
        "outputId": "cfc549a2-0810-43bb-cbfb-4c025c7c039f"
      },
      "execution_count": null,
      "outputs": [
        {
          "output_type": "execute_result",
          "data": {
            "text/plain": [
              "<OpenAIObject at 0x7fc9f10ba130> JSON: {\n",
              "  \"text\": \"It is so painful to write about Mama Oyelese and I have been so so afraid of this in the last two years. It is so painful to think of you as dead. Very painful but challenging about anything you have done. You lived as if death was never going to come your way and thank you so very much for your faith in Christ, believing in the world to come. Wow wow, what a wonderful person you are and the world is a poorer place without you. I have cried so much that I am still crying. I first met Mama Oyelese as a 12 year old at school. She was my home economics teacher who was bent on improving herself and others around her through education. She went to school as she had her children and she brought them up to be stars wherever they found themselves. She loved all in her world except perhaps the lazy. She followed her students and their families till Christ came for her. A most effective leader she was. She was unassuming but never took anything for granted. She loved being a woman and she celebrated whatever we became. She was always there for her students, especially those who lived at Ibadan till now. Her mark was on any school where she worked, especially when she became a principal. She made the best use of any money that came her way. Emmanuel College, Samonda has a unique uniform till date because she combined the colors so effectively and her school had a library until she left that school.\"\n",
              "}"
            ]
          },
          "metadata": {},
          "execution_count": 6
        }
      ]
    },
    {
      "cell_type": "markdown",
      "source": [
        "### **Example 5:**"
      ],
      "metadata": {
        "id": "VIZ3TRRGe0Rc"
      }
    },
    {
      "cell_type": "code",
      "source": [
        "Transcribe_speech(\"/content/WhatsApp Audio 2023-04-22 at 10.01.49 AM.mpeg\")"
      ],
      "metadata": {
        "colab": {
          "base_uri": "https://localhost:8080/"
        },
        "id": "Tk5y62f2ezlW",
        "outputId": "2ec4c199-e90c-432a-b3dc-91582b35cda2"
      },
      "execution_count": null,
      "outputs": [
        {
          "output_type": "execute_result",
          "data": {
            "text/plain": [
              "<OpenAIObject at 0x7fc65c5c0810> JSON: {\n",
              "  \"text\": \"Baba Wa, Baba Lufa as we called him in those days, was always there for me as a worker for the church. For there is no way you can win souls without a mentor to direct you. This Baba Okereme did that for all around him, even when people like me took him for granted. I assume that he had more years to spend on this side of the divide. He was not a man of many words but was very effective reaching his goals, so focused was he that he did not believe in words but actions. For example, he made no noise about planting flowers and trees all around him. We also got that from him and he was a great praying man, always on his knees for all. He knew on whatever serious matter you brought to him, he would greatly say let us pray and then those heavy prayers would start. For example, no one came with a heavy heart and left the same way, enlightening our bodies.\"\n",
              "}"
            ]
          },
          "metadata": {},
          "execution_count": 6
        }
      ]
    },
    {
      "cell_type": "code",
      "source": [
        "Transcribe_speech(\"/content/WhatsApp Audio 2023-04-22 at 10.02.08 AM.mpeg\")"
      ],
      "metadata": {
        "colab": {
          "base_uri": "https://localhost:8080/"
        },
        "id": "zo1xVuRjexyy",
        "outputId": "a00d78e5-aa5d-4fc0-fa03-28a0bb24b085"
      },
      "execution_count": null,
      "outputs": [
        {
          "output_type": "execute_result",
          "data": {
            "text/plain": [
              "<OpenAIObject at 0x7fc68c16ad60> JSON: {\n",
              "  \"text\": \"Baba was a home builder and I can testify to the fact that he never gave up on any home. He would visit, encourage, bully the man he used to see but the home he remained at the end of the day is home. With Mama was so peaceful that the younger ones always wanted to visit. Even when they had no business there but sometimes someone who were ill would want to see Baba before getting to the hospital that was nearby. We thank God for that set up but this is a story for another day. He started building the church of tomorrow before anyone thought about it. And while younger people were complaining in the church ability, the doorman of their services, he built on the foundation of a young people's church which he found when he arrived at the church. He invested so much on the women and the young people of the church. What a joyful period that was at St. Anne's Church, Molete for Maine.\"\n",
              "}"
            ]
          },
          "metadata": {},
          "execution_count": 7
        }
      ]
    },
    {
      "cell_type": "code",
      "source": [
        "Transcribe_speech(\"/content/WhatsApp Audio 2023-04-22 at 10.02.19 AM.mpeg\")"
      ],
      "metadata": {
        "colab": {
          "base_uri": "https://localhost:8080/"
        },
        "id": "CHFNfnEkfiTO",
        "outputId": "8c5b550b-a3cc-41f2-e573-564112ec46d1"
      },
      "execution_count": null,
      "outputs": [
        {
          "output_type": "execute_result",
          "data": {
            "text/plain": [
              "<OpenAIObject at 0x7fc687322950> JSON: {\n",
              "  \"text\": \"Ie wanted good music at St Hans and I must confess that I do not know how he did it, but excellent music was produced in that church that made a lot of people worship in that church. The church became a great worship centre for all sorts of people, the rich, the influential, the poor, the needy, all people whoever they may be. A vibrant church where we all want to worship. He knew all the families in the church, encouraging visiting, making sure that all families were involved in the church activities. A great evangelist, he encouraged all to spread Christ all over Yvadondao.\"\n",
              "}"
            ]
          },
          "metadata": {},
          "execution_count": 8
        }
      ]
    },
    {
      "cell_type": "code",
      "source": [
        "Transcribe_speech(\"/content/WhatsApp Audio 2023-04-22 at 10.02.30 AM.mpeg\")"
      ],
      "metadata": {
        "colab": {
          "base_uri": "https://localhost:8080/"
        },
        "id": "Nd9yswRKfmV4",
        "outputId": "f3c063cf-8082-4e29-ca0d-00cc38835376"
      },
      "execution_count": null,
      "outputs": [
        {
          "output_type": "execute_result",
          "data": {
            "text/plain": [
              "<OpenAIObject at 0x7fc6a56eba40> JSON: {\n",
              "  \"text\": \"Lishasa virimpega aneya hechadi inido ni atukiza. dazu de la kura takumiku te a tabi cin ve si amo nasegenda lumpere. wey min yidha lahi k gangabudah itajichti, na si valimi ndijoli itizkiza weloy'di. I bia yon kik https://musebanky.com lisahona w energitipaske ya master ga si. Na  hamani familia ki katizi nandaan inafadil, yang prayingo na wa madu tamamente. was would have written a book of all topics, church administration, and it is such a pleasure to read his book. Christ taught him and he taught us the younger ones what a privilege what a man of God. Above all, we love him because we cherish him because he was wise in the way of the Lord and you guided us without empty noise. You protected us and nourished us and saved our existence. We thank you so much for your love. We are grateful for all that you have to us and all you have been to us. Your legacy, your words, your admonition, your presence will always be with us. I am convinced that you are with the Master. We salute you, the great son of the Lord.\"\n",
              "}"
            ]
          },
          "metadata": {},
          "execution_count": 9
        }
      ]
    },
    {
      "cell_type": "code",
      "source": [],
      "metadata": {
        "id": "R7JyI4iywIAf"
      },
      "execution_count": null,
      "outputs": []
    }
  ]
}